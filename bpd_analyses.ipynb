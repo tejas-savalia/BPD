{
 "cells": [
  {
   "cell_type": "code",
   "execution_count": 1,
   "metadata": {
    "id": "aN2giM4eicmD"
   },
   "outputs": [],
   "source": [
    "# !pip install pymc\n",
    "# !pip install pyreadstat \n",
    "# sav_data = pd.read_spss('sav_data.sav\"')\"\n",
    "# sav_data.to_csv('csv_data.csv', index=False)"
   ]
  },
  {
   "cell_type": "code",
   "execution_count": 79,
   "metadata": {
    "cellView": "form",
    "colab": {
     "base_uri": "https://localhost:8080/"
    },
    "id": "p5PMHfzWiiej",
    "outputId": "36f1d169-d869-496c-c44e-135920888746"
   },
   "outputs": [],
   "source": [
    "#@title Imports and load google drive, navigate to BPD folder\n",
    "import pandas as pd\n",
    "import numpy as np\n",
    "import scipy.stats as stat\n",
    "import arviz as az\n",
    "import matplotlib.pyplot as plt\n",
    "from scipy.special import softmax\n",
    "from scipy.optimize import minimize\n",
    "# import pytensor\n",
    "# import pytensor.tensor as pt\n",
    "import scipy\n",
    "import hddm\n",
    "import seaborn as sns\n",
    "\n",
    "import statsmodels.api as sm\n",
    "import statsmodels.formula.api as smf\n",
    "import multiprocessing as mp\n",
    "\n"
   ]
  },
  {
   "cell_type": "code",
   "execution_count": 80,
   "metadata": {
    "id": "DuJHqzxrjn8v"
   },
   "outputs": [],
   "source": [
    "data = pd.read_csv('new_d.csv').drop('Unnamed: 0', axis = 1)"
   ]
  },
  {
   "cell_type": "code",
   "execution_count": null,
   "metadata": {
    "id": "TmyhFkWcwbAS"
   },
   "outputs": [],
   "source": []
  },
  {
   "cell_type": "code",
   "execution_count": null,
   "metadata": {},
   "outputs": [],
   "source": []
  },
  {
   "cell_type": "code",
   "execution_count": 81,
   "metadata": {
    "id": "IqPHiX1UmR5J"
   },
   "outputs": [],
   "source": [
    "data = data.sort_values(['ID', 'Session', 'Block'], ascending=[True, True, 'True']).reset_index().drop('index', axis = 1)\n",
    "data['optimal response taken'] = data['StimulusPresentation1.RESP'] == data['StimulusPresentation1.CRESP']"
   ]
  },
  {
   "cell_type": "code",
   "execution_count": null,
   "metadata": {},
   "outputs": [],
   "source": []
  },
  {
   "cell_type": "code",
   "execution_count": 4,
   "metadata": {
    "id": "WKOsT_mt6Qf6"
   },
   "outputs": [],
   "source": [
    "#Generated trial behavior\n",
    "num_trials = 360\n",
    "possible_trials = np.concatenate((np.tile([[0, 1]], int(num_trials/3)).reshape(int(num_trials/3), 2), np.tile([[2, 3]], int(num_trials/3)).reshape(int(num_trials/3), 2), np.tile([[4, 5]], int(num_trials/3)).reshape(int(num_trials/3), 2)))\n",
    "np.random.shuffle(possible_trials)\n",
    "\n",
    "rewards = np.zeros_like(possible_trials)\n",
    "for i, trial in enumerate(possible_trials): \n",
    "    if trial[0] == 0:\n",
    "        rewards[i][0] = np.random.choice([1, 0], p = [.80, .20])\n",
    "        rewards[i][1] = np.random.choice([0, 1], p = [.80, .20])\n",
    "    elif trial[0] == 2: \n",
    "        rewards[i][0] = np.random.choice([1, 0], p = [.70, .30])\n",
    "        rewards[i][1] = np.random.choice([0, 1], p = [.70, .30])\n",
    "    else:\n",
    "        rewards[i][0] = np.random.choice([1, 0], p = [.60, .40])\n",
    "        rewards[i][1] = np.random.choice([0, 1], p = [.60, .40])\n",
    "        \n",
    "optimal_choices = np.zeros(num_trials)\n",
    "optimal_choices[np.where(possible_trials == [2])[0]] = 2\n",
    "optimal_choices[np.where(possible_trials == [4])[0]] = 4\n"
   ]
  },
  {
   "cell_type": "code",
   "execution_count": null,
   "metadata": {
    "id": "ihWo7x3oKSwo"
   },
   "outputs": [],
   "source": []
  },
  {
   "cell_type": "code",
   "execution_count": null,
   "metadata": {},
   "outputs": [],
   "source": []
  },
  {
   "cell_type": "code",
   "execution_count": 27,
   "metadata": {},
   "outputs": [],
   "source": [
    "procedure = 'Trainb'\n",
    "ID = 1006\n",
    "trials_presented = np.array([np.array([int(i), int(j)]) for i, j in data.loc[((data['ID'] == ID) & (data['Procedure'] == procedure)), 'TrialType'].str.replace('A', '0').str.replace('B', '1').str.replace('C', '2').str.replace('D', '3').str.replace('E', '4').str.replace('F', '5').values])\n",
    "\n",
    "actions = np.zeros(len(trials_presented))\n",
    "chosen = data.loc[((data['ID'] == ID) & (data['Procedure'] == procedure)), 'StimulusPresentation1.RESP'].values.astype(int)\n",
    "for i, trial in enumerate(trials_presented):\n",
    "    actions[i] = int(trial[1 - chosen[i]])\n",
    "actions = actions.astype(int)\n",
    "\n",
    "optimal_resp = data.loc[((data['ID'] == ID) & (data['Procedure'] == procedure)), 'optimal response taken'].values.astype(int)\n",
    "\n",
    "rewards = data.loc[((data['ID'] == ID) & (data['Procedure'] == procedure)), 'StimulusPresentation1.ACC'].values.astype(int)\n"
   ]
  },
  {
   "cell_type": "code",
   "execution_count": 28,
   "metadata": {
    "id": "PVst7K_inwYF"
   },
   "outputs": [],
   "source": [
    "rng = np.random.default_rng(12345)\n",
    "\n",
    "def generate_data(rng, alpha_l, alpha_g, beta, stimuli, p_r=None):\n",
    "    n = len(stimuli)\n",
    "    if p_r is None:\n",
    "        p_r = [0.8, 0.2, 0.7, 0.3, 0.6, 0.4]\n",
    "    actions = np.zeros(n, dtype=\"int\")\n",
    "    optimal_action_taken = np.zeros(n, dtype=\"int\")\n",
    "    rewards = np.zeros(n, dtype=\"int\")\n",
    "    Qs = np.zeros((n, len(p_r)))\n",
    "\n",
    "    # Initialize Q table\n",
    "    Q = np.array([0.5, 0.5, 0.5, 0.5, 0.5, 0.5])\n",
    "\n",
    "    for i in range(n):\n",
    "        # Apply the Softmax transformation\n",
    "        exp_Q = np.exp(Q[stimuli[i]]*beta)\n",
    "        prob_a = exp_Q / np.sum(exp_Q)\n",
    "        # print(prob_a)\n",
    "        # Simulate choice and reward\n",
    "        a = rng.choice(stimuli[i], p=prob_a)\n",
    "        r = rng.random() < p_r[a]\n",
    "\n",
    "        # Update Q table\n",
    "        pred_error = r - Q[a]\n",
    "        if pred_error > 0:\n",
    "            alpha = alpha_g\n",
    "        else:\n",
    "            alpha = alpha_l\n",
    "\n",
    "        Q[a] = Q[a] + alpha * (r - Q[a])\n",
    "\n",
    "        # Store values\n",
    "        actions[i] = a\n",
    "        rewards[i] = r\n",
    "        optimal_action_taken[i] = int(a%2 == 0)\n",
    "        Qs[i][a] = Q[a]\n",
    "\n",
    "    return actions, rewards, optimal_action_taken, Qs"
   ]
  },
  {
   "cell_type": "code",
   "execution_count": 29,
   "metadata": {
    "id": "k9swnVqzZGTx"
   },
   "outputs": [],
   "source": [
    "actions, rewards, opt_act, Qs = generate_data(rng, 1, 1, 1, trials_presented.astype(int))"
   ]
  },
  {
   "cell_type": "code",
   "execution_count": null,
   "metadata": {},
   "outputs": [],
   "source": []
  },
  {
   "cell_type": "code",
   "execution_count": 138,
   "metadata": {
    "id": "-9XfOZH0CxDA"
   },
   "outputs": [
    {
     "data": {
      "text/plain": [
       "array([2, 1, 2, 1, 2, 1, 2, 1, 2, 1, 2, 1, 2, 1, 2, 1, 2, 1, 2, 1, 1, 2,\n",
       "       2, 1, 2, 1, 2, 1, 2, 1, 2, 1, 2, 1, 1, 2, 2, 1, 2, 1, 1, 2, 2, 1,\n",
       "       2, 1, 1, 2, 2, 1, 1, 2, 2, 1, 2, 1, 2, 1, 1, 2, 2, 1, 1, 2, 2, 1,\n",
       "       1, 2, 2, 1, 2, 1, 1, 2, 1, 2, 2, 1, 2, 1, 2, 1, 2, 1, 1, 2, 2, 1,\n",
       "       2, 1, 2, 1, 2, 1, 1, 2, 2, 1, 1, 2, 2, 1, 1, 2, 2, 1, 2, 1, 1, 2,\n",
       "       2, 1, 2, 1, 1, 2, 2, 1, 2, 1, 1, 2, 2, 1, 1, 2, 2, 1, 2, 1, 1, 2,\n",
       "       1, 2, 2, 1, 2, 1, 2, 1, 2, 1, 2, 1, 1, 2, 1, 2, 1, 2, 2, 1, 2, 1,\n",
       "       2, 1, 2, 1, 2, 1, 1, 2, 1, 2, 1, 2, 1, 2, 2, 1, 2, 1, 1, 2, 2, 1,\n",
       "       2, 1, 2, 1, 1, 2, 2, 1, 1, 2, 2, 1, 1, 2, 1, 2, 2, 1, 2, 1, 1, 2,\n",
       "       1, 2, 2, 1, 1, 2, 2, 1, 1, 2, 1, 2, 1, 2, 2, 1, 2, 1, 2, 1, 1, 2,\n",
       "       2, 1, 1, 2, 2, 1, 2, 1, 2, 1, 1, 2, 1, 2, 1, 2, 2, 1, 2, 1, 2, 1,\n",
       "       1, 2, 1, 2, 1, 2, 1, 2, 1, 2, 1, 2, 2, 1, 1, 2, 2, 1, 2, 1])"
      ]
     },
     "execution_count": 138,
     "metadata": {},
     "output_type": "execute_result"
    }
   ],
   "source": [
    "# true_alpha_l = 0.1\n",
    "# true_alpha_g = 0.4\n",
    "# true_beta = 10\n"
   ]
  },
  {
   "cell_type": "code",
   "execution_count": 34,
   "metadata": {
    "id": "2jAbN8C5Gffi"
   },
   "outputs": [
    {
     "name": "stderr",
     "output_type": "stream",
     "text": [
      "<ipython-input-34-6c439b1f2d2b>:12: RuntimeWarning: overflow encountered in long_scalars\n",
      "  actions[i] = int(trial[1 - chosen[i]])\n"
     ]
    }
   ],
   "source": [
    "df_list = []\n",
    "for ID in data['ID'].unique():\n",
    "\n",
    "    trials_presented = np.array([np.array([int(i), int(j)]) for i, j in data.loc[((data['ID'] == ID) & (data['Procedure'] == procedure)), 'TrialType'].str.replace('A', '0').str.replace('B', '1').str.replace('C', '2').str.replace('D', '3').str.replace('E', '4').str.replace('F', '5').values])\n",
    "\n",
    "    # actions, rewards, optimal_action_taken, Qs = generate_data(rng, true_alpha_l, true_alpha_g, true_beta, trials_presented, p_r=None)\n",
    "\n",
    "    actions = np.zeros(len(trials_presented))\n",
    "    chosen = data.loc[((data['ID'] == ID) & (data['Procedure'] == procedure)), 'StimulusPresentation1.RESP'].values.astype(int)\n",
    "    for i, trial in enumerate(trials_presented):\n",
    "        try:\n",
    "            actions[i] = int(trial[1 - chosen[i]])\n",
    "        except:\n",
    "            continue\n",
    "#             print(actions[i])\n",
    "#             print(ID)\n",
    "    actions = actions.astype(int)\n",
    "\n",
    "    optimal_resp = data.loc[((data['ID'] == ID) & (data['Procedure'] == procedure)), 'optimal response taken'].values.astype(int)\n",
    "\n",
    "    rewards = data.loc[((data['ID'] == ID) & (data['Procedure'] == procedure)), 'StimulusPresentation1.ACC'].values.astype(int)\n",
    "\n",
    "#     sessions = pd.\n",
    "    trials_presented = data.loc[((data['ID'] == ID) & (data['Procedure'] == procedure)), 'TrialType'].values\n",
    "    trials_presented[trials_presented == 'BA'] = 'AB'\n",
    "    trials_presented[trials_presented == 'DC'] = 'CD'\n",
    "    trials_presented[trials_presented == 'FE'] = 'EF'\n",
    "\n",
    "    df = pd.DataFrame({'subj_idx': np.repeat(ID, len(trials_presented)),\n",
    "                       'response': optimal_resp,\n",
    "                       'feedback': rewards,\n",
    "                       'cond': trials_presented,\n",
    "                       'Session': data.loc[((data['ID'] == ID) & (data['Procedure'] == procedure)), 'Session'].values\n",
    "                      }                 \n",
    "                     )\n",
    "    df.loc[((df['cond'] == 'AB') & (df['Session'] == 1)), 'trial'] = np.arange(len(df.loc[((df['cond'] == 'AB') & (df['Session'] == 1))]))\n",
    "    df.loc[((df['cond'] == 'CD') & (df['Session'] == 1)), 'trial'] = np.arange(len(df.loc[((df['cond'] == 'CD') & (df['Session'] == 1))]))\n",
    "    df.loc[((df['cond'] == 'EF') & (df['Session'] == 1)), 'trial'] = np.arange(len(df.loc[((df['cond'] == 'EF') & (df['Session'] == 1))]))\n",
    "\n",
    "    df.loc[((df['cond'] == 'AB') & (df['Session'] == 2)), 'trial'] = np.arange(len(df.loc[((df['cond'] == 'AB') & (df['Session'] == 2))]))\n",
    "    df.loc[((df['cond'] == 'CD') & (df['Session'] == 2)), 'trial'] = np.arange(len(df.loc[((df['cond'] == 'CD') & (df['Session'] == 2))]))\n",
    "    df.loc[((df['cond'] == 'EF') & (df['Session'] == 2)), 'trial'] = np.arange(len(df.loc[((df['cond'] == 'EF') & (df['Session'] == 2))]))\n",
    "    \n",
    "    \n",
    "    df['rt'] = 0.5\n",
    "    df['q_init'] = 0.5\n",
    "    df.loc[((df['cond'] == 'AB')), 'split_by'] = int(0)\n",
    "    df.loc[((df['cond'] == 'CD')), 'split_by'] = int(1)\n",
    "    df.loc[((df['cond'] == 'EF')), 'split_by'] = int(2)\n",
    "\n",
    "    if (data.loc[data['ID'] == ID, 'BPD#'].unique()[0] > 5):\n",
    "        df['BPD'] = 'BPD'\n",
    "    else:\n",
    "        df['BPD'] = 'No BPD'\n",
    "    df['Condition'] = str(data.loc[data['ID'] == ID, 'Condition'].unique()[0])\n",
    "    \n",
    "    df_list.append(df)"
   ]
  },
  {
   "cell_type": "code",
   "execution_count": null,
   "metadata": {},
   "outputs": [],
   "source": []
  },
  {
   "cell_type": "code",
   "execution_count": 35,
   "metadata": {
    "id": "DmObwh-yGqI3"
   },
   "outputs": [],
   "source": [
    "df = pd.concat(df_list)\n",
    "# df.loc[df['BPD'] == False] = 'No BPD'\n"
   ]
  },
  {
   "cell_type": "code",
   "execution_count": 36,
   "metadata": {},
   "outputs": [],
   "source": [
    "df.loc[df['Session'] == 1, 'Session'] = 'Neutral'\n",
    "df.loc[df['Session'] == 2, 'Session'] = 'Stressed'\n",
    "\n",
    "df.loc[df['Condition'] == 1, 'Condition'] = 'NonSocial'\n",
    "df.loc[df['Condition'] == 2, 'Condition'] = 'Social'\n",
    "\n"
   ]
  },
  {
   "cell_type": "markdown",
   "metadata": {},
   "source": [
    "# Hierarchical Model"
   ]
  },
  {
   "cell_type": "code",
   "execution_count": 324,
   "metadata": {},
   "outputs": [
    {
     "name": "stdout",
     "output_type": "stream",
     "text": [
      "No model attribute --> setting up standard HDDM\n",
      "Set model to ddm\n"
     ]
    },
    {
     "name": "stderr",
     "output_type": "stream",
     "text": [
      "/opt/conda/lib/python3.8/site-packages/hddm/models/base.py:1307: UserWarning:  \n",
      " Your include statement misses either the v, a or t parameters. \n",
      "Parameters not explicitly included will be set to the defaults, \n",
      "which you can find in the model_config dictionary!\n",
      "  warnings.warn(\n"
     ]
    },
    {
     "name": "stdout",
     "output_type": "stream",
     "text": [
      " [-----------------100%-----------------] 4001 of 4000 complete in 1919.5 sec"
     ]
    },
    {
     "data": {
      "text/plain": [
       "<pymc.MCMC.MCMC at 0x7f158e1e03a0>"
      ]
     },
     "execution_count": 324,
     "metadata": {},
     "output_type": "execute_result"
    }
   ],
   "source": [
    "m_hrl = hddm.Hrl(df, depends_on = {'alpha':['Session', 'BPD', 'Condition'], 'pos_alpha':['Session', 'BPD', 'Condition'], 'v':['Session', 'BPD', 'Condition']}, p_outlier = 0.05, dual = True)\n",
    "m_hrl.sample(4000, burn=1000, dbname=\"traces.db\", db=\"pickle\")\n"
   ]
  },
  {
   "cell_type": "code",
   "execution_count": 242,
   "metadata": {},
   "outputs": [],
   "source": [
    "traces = m_hrl.get_traces()"
   ]
  },
  {
   "cell_type": "code",
   "execution_count": 245,
   "metadata": {},
   "outputs": [],
   "source": [
    "traces.to_csv('traces.csv')"
   ]
  },
  {
   "cell_type": "code",
   "execution_count": 327,
   "metadata": {},
   "outputs": [],
   "source": [
    "stat_traces = m_hrl.gen_stats().reset_index()\n",
    "stat_traces = stat_traces.rename(columns={'index':'parameters'})"
   ]
  },
  {
   "cell_type": "code",
   "execution_count": 328,
   "metadata": {},
   "outputs": [],
   "source": [
    "stat_traces.to_csv('stat_traces.csv')"
   ]
  },
  {
   "cell_type": "code",
   "execution_count": 399,
   "metadata": {},
   "outputs": [],
   "source": [
    "def plotting_q(stat_traces, condition):\n",
    "\n",
    "    alpha_g25 = stat_traces.loc[((stat_traces.parameters.str.contains(condition)) & (stat_traces.parameters.str.contains('pos_alpha_sub')))]['2.5q'].values\n",
    "    alpha_g975 = stat_traces.loc[((stat_traces.parameters.str.contains(condition)) & (stat_traces.parameters.str.contains('pos_alpha_sub')))]['97.5q'].values\n",
    "\n",
    "    alpha_l25 = stat_traces[stat_traces.parameters.str.contains(condition) & stat_traces.parameters.str.startswith('alpha_sub')]['2.5q'].values\n",
    "    alpha_l975 = stat_traces[stat_traces.parameters.str.contains(condition) & stat_traces.parameters.str.startswith('alpha_sub')]['97.5q'].values\n",
    "\n",
    "    beta_25 = stat_traces[stat_traces.parameters.str.contains(condition) & stat_traces.parameters.str.startswith('v_sub')]['2.5q'].values\n",
    "    beta_975 = stat_traces[stat_traces.parameters.str.contains(condition) & stat_traces.parameters.str.startswith('v_sub')]['97.5q'].values\n",
    "\n",
    "    alpha_g25 = np.exp(alpha_g25.astype(float))/(1+np.exp(alpha_g25.astype(float)))\n",
    "    alpha_g975 = np.exp(alpha_g975.astype(float))/(1+np.exp(alpha_g975.astype(float)))\n",
    "\n",
    "    alpha_l25 = np.exp(alpha_l25.astype(float))/(1+np.exp(alpha_l25.astype(float)))\n",
    "    alpha_l975 = np.exp(alpha_l975.astype(float))/(1+np.exp(alpha_l975.astype(float)))\n",
    "    print(alpha_l25)\n",
    "    \n",
    "    plt.subplot(1, 3, 1)\n",
    "    plt.plot([alpha_g25, alpha_g975], [0.1*np.arange(len(alpha_g25)), 0.1*np.arange(len(alpha_g975))])\n",
    "    plt.xlim((0, 1))\n",
    "#     plt.ylabel('Participants')\n",
    "    plt.xlabel('HDIs')\n",
    "    plt.title('Alpha Gain')\n",
    "#     plt.show()\n",
    "\n",
    "    plt.subplot(1, 3, 2)\n",
    "    plt.plot([alpha_l25, alpha_l975], [0.1*np.arange(len(alpha_l25)), 0.1*np.arange(len(alpha_l975))])\n",
    "    plt.xlim((0, 1))\n",
    "#     plt.ylabel('Participants')\n",
    "    plt.xlabel('HDIs')\n",
    "    plt.title('Alpha Loss')\n",
    "#     plt.show()\n",
    "    \n",
    "    \n",
    "    plt.subplot(1, 3, 3)\n",
    "    plt.plot([beta_25, beta_975], [0.1*np.arange(len(beta_25)), 0.1*np.arange(len(beta_975))])\n",
    "    plt.xlim((0, 1))\n",
    "    plt.ylabel('Participants')\n",
    "    plt.xlabel('HDIs')\n",
    "    plt.title('Beta')\n",
    "    plt.show()"
   ]
  },
  {
   "cell_type": "code",
   "execution_count": 418,
   "metadata": {},
   "outputs": [
    {
     "name": "stdout",
     "output_type": "stream",
     "text": [
      "[0.00335162 0.00248443 0.00260421 0.00091698 0.14987775 0.0060188\n",
      " 0.00041901 0.00688423 0.00104464 0.00743658 0.04734519 0.00721574\n",
      " 0.00380042]\n"
     ]
    },
    {
     "data": {
      "image/png": "[encoded data removed]",
      "text/plain": [
       "<Figure size 432x288 with 3 Axes>"
      ]
     },
     "metadata": {
      "needs_background": "light"
     },
     "output_type": "display_data"
    }
   ],
   "source": [
    "plotting_q(stat_traces, '\\(BPD.2.Stressed')"
   ]
  },
  {
   "cell_type": "markdown",
   "metadata": {},
   "source": [
    "# Non Hierarchical Model"
   ]
  },
  {
   "cell_type": "code",
   "execution_count": 421,
   "metadata": {},
   "outputs": [
    {
     "name": "stdout",
     "output_type": "stream",
     "text": [
      "No model attribute --> setting up standard HDDM\n",
      "Set model to ddm\n",
      " [-----------------100%-----------------] 4000 of 4000 complete in 1847.2 sec"
     ]
    },
    {
     "data": {
      "text/plain": [
       "<pymc.MCMC.MCMC at 0x7f1589be5460>"
      ]
     },
     "execution_count": 421,
     "metadata": {},
     "output_type": "execute_result"
    }
   ],
   "source": [
    "m_non_hierarchical_rl = hddm.Hrl(df, depends_on = {'alpha':['Session'], 'pos_alpha':['Session'], 'v':['Session']}, p_outlier = 0.05, dual = True)\n",
    "m_non_hierarchical_rl.sample(4000, burn=1000, dbname=\"traces.db\", db=\"pickle\")\n"
   ]
  },
  {
   "cell_type": "code",
   "execution_count": 422,
   "metadata": {},
   "outputs": [],
   "source": [
    "m_non_hierarchical_rl.get_traces().to_csv('non_hierarchical_traces.csv')"
   ]
  },
  {
   "cell_type": "code",
   "execution_count": 429,
   "metadata": {},
   "outputs": [],
   "source": [
    "non_hierarchical_rl_stats = m_non_hierarchical_rl.gen_stats().reset_index().rename(columns = {'index':'parameters'})"
   ]
  },
  {
   "cell_type": "code",
   "execution_count": 430,
   "metadata": {},
   "outputs": [],
   "source": [
    "non_hierarchical_rl_stats.to_csv('non_hierarchical_rl_stats.csv')\n"
   ]
  },
  {
   "cell_type": "code",
   "execution_count": 459,
   "metadata": {},
   "outputs": [],
   "source": [
    "non_hrl_params = non_hierarchical_rl_stats[['parameters', 'mean', '50q']]\n"
   ]
  },
  {
   "cell_type": "code",
   "execution_count": null,
   "metadata": {},
   "outputs": [],
   "source": []
  },
  {
   "cell_type": "code",
   "execution_count": 460,
   "metadata": {},
   "outputs": [
    {
     "name": "stderr",
     "output_type": "stream",
     "text": [
      "/opt/conda/lib/python3.8/site-packages/pandas/core/indexing.py:671: SettingWithCopyWarning: \n",
      "A value is trying to be set on a copy of a slice from a DataFrame\n",
      "\n",
      "See the caveats in the documentation: https://pandas.pydata.org/pandas-docs/stable/user_guide/indexing.html#returning-a-view-versus-a-copy\n",
      "  self._setitem_with_indexer(indexer, value)\n",
      "<ipython-input-460-8b97d86d59fc>:1: SettingWithCopyWarning: \n",
      "A value is trying to be set on a copy of a slice from a DataFrame\n",
      "\n",
      "See the caveats in the documentation: https://pandas.pydata.org/pandas-docs/stable/user_guide/indexing.html#returning-a-view-versus-a-copy\n",
      "  non_hrl_params.loc[non_hrl_params.parameters.str.contains('alpha'), '50q'] = np.exp(non_hrl_params.loc[non_hrl_params.parameters.str.contains('alpha'), '50q'].values.astype(float))/(1+ np.exp(non_hrl_params.loc[non_hrl_params.parameters.str.contains('alpha'), '50q'].values.astype(float)))\n",
      "<ipython-input-460-8b97d86d59fc>:2: SettingWithCopyWarning: \n",
      "A value is trying to be set on a copy of a slice from a DataFrame\n",
      "\n",
      "See the caveats in the documentation: https://pandas.pydata.org/pandas-docs/stable/user_guide/indexing.html#returning-a-view-versus-a-copy\n",
      "  non_hrl_params.loc[non_hrl_params.parameters.str.contains('alpha'), 'mean'] = np.exp(non_hrl_params.loc[non_hrl_params.parameters.str.contains('alpha'), 'mean'].values.astype(float))/(1+ np.exp(non_hrl_params.loc[non_hrl_params.parameters.str.contains('alpha'), 'mean'].values.astype(float)))\n"
     ]
    }
   ],
   "source": [
    "non_hrl_params.loc[non_hrl_params.parameters.str.contains('alpha'), '50q'] = np.exp(non_hrl_params.loc[non_hrl_params.parameters.str.contains('alpha'), '50q'].values.astype(float))/(1+ np.exp(non_hrl_params.loc[non_hrl_params.parameters.str.contains('alpha'), '50q'].values.astype(float)))\n",
    "non_hrl_params.loc[non_hrl_params.parameters.str.contains('alpha'), 'mean'] = np.exp(non_hrl_params.loc[non_hrl_params.parameters.str.contains('alpha'), 'mean'].values.astype(float))/(1+ np.exp(non_hrl_params.loc[non_hrl_params.parameters.str.contains('alpha'), 'mean'].values.astype(float)))\n"
   ]
  },
  {
   "cell_type": "code",
   "execution_count": 462,
   "metadata": {},
   "outputs": [],
   "source": [
    "non_hrl_params.to_csv('non_hrl_params.csv')"
   ]
  },
  {
   "cell_type": "code",
   "execution_count": 463,
   "metadata": {},
   "outputs": [
    {
     "data": {
      "text/html": [
       "<div>\n",
       "<style scoped>\n",
       "    .dataframe tbody tr th:only-of-type {\n",
       "        vertical-align: middle;\n",
       "    }\n",
       "\n",
       "    .dataframe tbody tr th {\n",
       "        vertical-align: top;\n",
       "    }\n",
       "\n",
       "    .dataframe thead th {\n",
       "        text-align: right;\n",
       "    }\n",
       "</style>\n",
       "<table border=\"1\" class=\"dataframe\">\n",
       "  <thead>\n",
       "    <tr style=\"text-align: right;\">\n",
       "      <th></th>\n",
       "      <th>parameters</th>\n",
       "      <th>mean</th>\n",
       "      <th>50q</th>\n",
       "    </tr>\n",
       "  </thead>\n",
       "  <tbody>\n",
       "    <tr>\n",
       "      <th>0</th>\n",
       "      <td>v(Neutral)</td>\n",
       "      <td>0.304987</td>\n",
       "      <td>0.302219</td>\n",
       "    </tr>\n",
       "    <tr>\n",
       "      <th>1</th>\n",
       "      <td>v(Stressed)</td>\n",
       "      <td>0.427031</td>\n",
       "      <td>0.426332</td>\n",
       "    </tr>\n",
       "    <tr>\n",
       "      <th>2</th>\n",
       "      <td>v_std</td>\n",
       "      <td>0.279949</td>\n",
       "      <td>0.278573</td>\n",
       "    </tr>\n",
       "    <tr>\n",
       "      <th>3</th>\n",
       "      <td>v_subj(Neutral).1001</td>\n",
       "      <td>0.249379</td>\n",
       "      <td>0.244112</td>\n",
       "    </tr>\n",
       "    <tr>\n",
       "      <th>4</th>\n",
       "      <td>v_subj(Neutral).1002</td>\n",
       "      <td>-0.0778145</td>\n",
       "      <td>-0.0773303</td>\n",
       "    </tr>\n",
       "    <tr>\n",
       "      <th>...</th>\n",
       "      <td>...</td>\n",
       "      <td>...</td>\n",
       "      <td>...</td>\n",
       "    </tr>\n",
       "    <tr>\n",
       "      <th>907</th>\n",
       "      <td>pos_alpha_subj(Stressed).1232</td>\n",
       "      <td>0.367232</td>\n",
       "      <td>0.353756</td>\n",
       "    </tr>\n",
       "    <tr>\n",
       "      <th>908</th>\n",
       "      <td>pos_alpha_subj(Stressed).1237</td>\n",
       "      <td>0.443505</td>\n",
       "      <td>0.463304</td>\n",
       "    </tr>\n",
       "    <tr>\n",
       "      <th>909</th>\n",
       "      <td>pos_alpha_subj(Stressed).1243</td>\n",
       "      <td>0.369866</td>\n",
       "      <td>0.405974</td>\n",
       "    </tr>\n",
       "    <tr>\n",
       "      <th>910</th>\n",
       "      <td>pos_alpha_subj(Stressed).1247</td>\n",
       "      <td>0.352087</td>\n",
       "      <td>0.375754</td>\n",
       "    </tr>\n",
       "    <tr>\n",
       "      <th>911</th>\n",
       "      <td>pos_alpha_subj(Stressed).1249</td>\n",
       "      <td>0.475144</td>\n",
       "      <td>0.429534</td>\n",
       "    </tr>\n",
       "  </tbody>\n",
       "</table>\n",
       "<p>912 rows × 3 columns</p>\n",
       "</div>"
      ],
      "text/plain": [
       "                        parameters       mean        50q\n",
       "0                       v(Neutral)   0.304987   0.302219\n",
       "1                      v(Stressed)   0.427031   0.426332\n",
       "2                            v_std   0.279949   0.278573\n",
       "3             v_subj(Neutral).1001   0.249379   0.244112\n",
       "4             v_subj(Neutral).1002 -0.0778145 -0.0773303\n",
       "..                             ...        ...        ...\n",
       "907  pos_alpha_subj(Stressed).1232   0.367232   0.353756\n",
       "908  pos_alpha_subj(Stressed).1237   0.443505   0.463304\n",
       "909  pos_alpha_subj(Stressed).1243   0.369866   0.405974\n",
       "910  pos_alpha_subj(Stressed).1247   0.352087   0.375754\n",
       "911  pos_alpha_subj(Stressed).1249   0.475144   0.429534\n",
       "\n",
       "[912 rows x 3 columns]"
      ]
     },
     "execution_count": 463,
     "metadata": {},
     "output_type": "execute_result"
    }
   ],
   "source": [
    "non_hrl_params"
   ]
  },
  {
   "cell_type": "code",
   "execution_count": null,
   "metadata": {},
   "outputs": [],
   "source": []
  },
  {
   "cell_type": "markdown",
   "metadata": {},
   "source": [
    "# Models using Traces"
   ]
  },
  {
   "cell_type": "code",
   "execution_count": 82,
   "metadata": {},
   "outputs": [],
   "source": [
    "traces = pd.read_csv('non_hierarchical_traces.csv').drop('Unnamed: 0', axis = 1).reset_index().rename(columns = {'index':'trace#'})"
   ]
  },
  {
   "cell_type": "code",
   "execution_count": null,
   "metadata": {},
   "outputs": [],
   "source": []
  },
  {
   "cell_type": "code",
   "execution_count": 85,
   "metadata": {},
   "outputs": [],
   "source": [
    "traces_melt = traces.melt(id_vars='trace#', var_name='parameters', value_name='parameter values')"
   ]
  },
  {
   "cell_type": "code",
   "execution_count": 86,
   "metadata": {},
   "outputs": [],
   "source": [
    "traces_melt = traces_melt[traces_melt.parameters.str.contains('subj')]"
   ]
  },
  {
   "cell_type": "code",
   "execution_count": 87,
   "metadata": {},
   "outputs": [],
   "source": [
    "traces_melt.loc[traces_melt.parameters.str.contains('Neutral'), 'Session'] = 'Neutral'\n",
    "traces_melt.loc[traces_melt.parameters.str.contains('Stressed'), 'Session'] = 'Stressed'\n",
    "\n"
   ]
  },
  {
   "cell_type": "code",
   "execution_count": 88,
   "metadata": {},
   "outputs": [],
   "source": [
    "traces_melt[['parameters', 'ID']] = traces_melt.parameters.str.split('.', expand=True)"
   ]
  },
  {
   "cell_type": "code",
   "execution_count": 89,
   "metadata": {},
   "outputs": [],
   "source": [
    "traces_melt.loc[traces_melt.parameters.str.contains('alpha'), 'parameter values'] = np.exp(traces_melt.loc[traces_melt.parameters.str.contains('alpha'), 'parameter values'])/(1+np.exp(traces_melt.loc[traces_melt.parameters.str.contains('alpha'), 'parameter values']))"
   ]
  },
  {
   "cell_type": "code",
   "execution_count": 91,
   "metadata": {},
   "outputs": [],
   "source": [
    "for ids in traces_melt.ID.unique():\n",
    "    traces_melt.loc[traces_melt['ID'] == ids, 'BPD'] = data.loc[data['ID'] == int(ids), 'BPD#'].unique()[0]\n",
    "    traces_melt.loc[traces_melt['ID'] == ids, 'Condition'] = data.loc[data['ID'] == int(ids), 'Condition'].unique()[0]\n",
    "    "
   ]
  },
  {
   "cell_type": "code",
   "execution_count": 92,
   "metadata": {},
   "outputs": [
    {
     "data": {
      "text/html": [
       "<div>\n",
       "<style scoped>\n",
       "    .dataframe tbody tr th:only-of-type {\n",
       "        vertical-align: middle;\n",
       "    }\n",
       "\n",
       "    .dataframe tbody tr th {\n",
       "        vertical-align: top;\n",
       "    }\n",
       "\n",
       "    .dataframe thead th {\n",
       "        text-align: right;\n",
       "    }\n",
       "</style>\n",
       "<table border=\"1\" class=\"dataframe\">\n",
       "  <thead>\n",
       "    <tr style=\"text-align: right;\">\n",
       "      <th></th>\n",
       "      <th>trace#</th>\n",
       "      <th>parameters</th>\n",
       "      <th>parameter values</th>\n",
       "      <th>Session</th>\n",
       "      <th>ID</th>\n",
       "      <th>BPD</th>\n",
       "      <th>Condition</th>\n",
       "    </tr>\n",
       "  </thead>\n",
       "  <tbody>\n",
       "    <tr>\n",
       "      <th>9000</th>\n",
       "      <td>0</td>\n",
       "      <td>v_subj(Neutral)</td>\n",
       "      <td>0.029903</td>\n",
       "      <td>Neutral</td>\n",
       "      <td>1001</td>\n",
       "      <td>0.0</td>\n",
       "      <td>2.0</td>\n",
       "    </tr>\n",
       "    <tr>\n",
       "      <th>9001</th>\n",
       "      <td>1</td>\n",
       "      <td>v_subj(Neutral)</td>\n",
       "      <td>0.366367</td>\n",
       "      <td>Neutral</td>\n",
       "      <td>1001</td>\n",
       "      <td>0.0</td>\n",
       "      <td>2.0</td>\n",
       "    </tr>\n",
       "    <tr>\n",
       "      <th>9002</th>\n",
       "      <td>2</td>\n",
       "      <td>v_subj(Neutral)</td>\n",
       "      <td>0.229726</td>\n",
       "      <td>Neutral</td>\n",
       "      <td>1001</td>\n",
       "      <td>0.0</td>\n",
       "      <td>2.0</td>\n",
       "    </tr>\n",
       "    <tr>\n",
       "      <th>9003</th>\n",
       "      <td>3</td>\n",
       "      <td>v_subj(Neutral)</td>\n",
       "      <td>0.162186</td>\n",
       "      <td>Neutral</td>\n",
       "      <td>1001</td>\n",
       "      <td>0.0</td>\n",
       "      <td>2.0</td>\n",
       "    </tr>\n",
       "    <tr>\n",
       "      <th>9004</th>\n",
       "      <td>4</td>\n",
       "      <td>v_subj(Neutral)</td>\n",
       "      <td>0.379577</td>\n",
       "      <td>Neutral</td>\n",
       "      <td>1001</td>\n",
       "      <td>0.0</td>\n",
       "      <td>2.0</td>\n",
       "    </tr>\n",
       "    <tr>\n",
       "      <th>...</th>\n",
       "      <td>...</td>\n",
       "      <td>...</td>\n",
       "      <td>...</td>\n",
       "      <td>...</td>\n",
       "      <td>...</td>\n",
       "      <td>...</td>\n",
       "      <td>...</td>\n",
       "    </tr>\n",
       "    <tr>\n",
       "      <th>2735995</th>\n",
       "      <td>2995</td>\n",
       "      <td>pos_alpha_subj(Stressed)</td>\n",
       "      <td>0.142009</td>\n",
       "      <td>Stressed</td>\n",
       "      <td>1249</td>\n",
       "      <td>4.0</td>\n",
       "      <td>2.0</td>\n",
       "    </tr>\n",
       "    <tr>\n",
       "      <th>2735996</th>\n",
       "      <td>2996</td>\n",
       "      <td>pos_alpha_subj(Stressed)</td>\n",
       "      <td>0.254487</td>\n",
       "      <td>Stressed</td>\n",
       "      <td>1249</td>\n",
       "      <td>4.0</td>\n",
       "      <td>2.0</td>\n",
       "    </tr>\n",
       "    <tr>\n",
       "      <th>2735997</th>\n",
       "      <td>2997</td>\n",
       "      <td>pos_alpha_subj(Stressed)</td>\n",
       "      <td>0.384634</td>\n",
       "      <td>Stressed</td>\n",
       "      <td>1249</td>\n",
       "      <td>4.0</td>\n",
       "      <td>2.0</td>\n",
       "    </tr>\n",
       "    <tr>\n",
       "      <th>2735998</th>\n",
       "      <td>2998</td>\n",
       "      <td>pos_alpha_subj(Stressed)</td>\n",
       "      <td>0.500698</td>\n",
       "      <td>Stressed</td>\n",
       "      <td>1249</td>\n",
       "      <td>4.0</td>\n",
       "      <td>2.0</td>\n",
       "    </tr>\n",
       "    <tr>\n",
       "      <th>2735999</th>\n",
       "      <td>2999</td>\n",
       "      <td>pos_alpha_subj(Stressed)</td>\n",
       "      <td>0.203473</td>\n",
       "      <td>Stressed</td>\n",
       "      <td>1249</td>\n",
       "      <td>4.0</td>\n",
       "      <td>2.0</td>\n",
       "    </tr>\n",
       "  </tbody>\n",
       "</table>\n",
       "<p>2709000 rows × 7 columns</p>\n",
       "</div>"
      ],
      "text/plain": [
       "         trace#                parameters  parameter values   Session    ID  \\\n",
       "9000          0           v_subj(Neutral)          0.029903   Neutral  1001   \n",
       "9001          1           v_subj(Neutral)          0.366367   Neutral  1001   \n",
       "9002          2           v_subj(Neutral)          0.229726   Neutral  1001   \n",
       "9003          3           v_subj(Neutral)          0.162186   Neutral  1001   \n",
       "9004          4           v_subj(Neutral)          0.379577   Neutral  1001   \n",
       "...         ...                       ...               ...       ...   ...   \n",
       "2735995    2995  pos_alpha_subj(Stressed)          0.142009  Stressed  1249   \n",
       "2735996    2996  pos_alpha_subj(Stressed)          0.254487  Stressed  1249   \n",
       "2735997    2997  pos_alpha_subj(Stressed)          0.384634  Stressed  1249   \n",
       "2735998    2998  pos_alpha_subj(Stressed)          0.500698  Stressed  1249   \n",
       "2735999    2999  pos_alpha_subj(Stressed)          0.203473  Stressed  1249   \n",
       "\n",
       "         BPD  Condition  \n",
       "9000     0.0        2.0  \n",
       "9001     0.0        2.0  \n",
       "9002     0.0        2.0  \n",
       "9003     0.0        2.0  \n",
       "9004     0.0        2.0  \n",
       "...      ...        ...  \n",
       "2735995  4.0        2.0  \n",
       "2735996  4.0        2.0  \n",
       "2735997  4.0        2.0  \n",
       "2735998  4.0        2.0  \n",
       "2735999  4.0        2.0  \n",
       "\n",
       "[2709000 rows x 7 columns]"
      ]
     },
     "execution_count": 92,
     "metadata": {},
     "output_type": "execute_result"
    }
   ],
   "source": [
    "traces_melt"
   ]
  },
  {
   "cell_type": "code",
   "execution_count": 11,
   "metadata": {},
   "outputs": [],
   "source": [
    "def lm_params(trace_no, parameter = 'pos_alpha_subj'):\n",
    "    temp_data = traces_melt.loc[((traces_melt['trace#'] ==trace_no) & (traces_melt['parameters'].str.startswith(parameters)))].rename(columns={'parameter values':'param_vals'})\n",
    "    res = smf.ols(formula='param_vals ~  BPD*Session*C(Condition) -1 ', data=temp_data).fit()\n",
    "#     d_list.append(pd.DataFrame(res.params))\n",
    "    return res.params"
   ]
  },
  {
   "cell_type": "code",
   "execution_count": null,
   "metadata": {},
   "outputs": [],
   "source": [
    "trace_nos = np.arange(3000)\n",
    "pool = mp.Pool()\n",
    "pos_alpha_results = pool.map(lm_params, trace_nos)"
   ]
  },
  {
   "cell_type": "code",
   "execution_count": 3,
   "metadata": {},
   "outputs": [],
   "source": [
    "# pos_alpha = lm_params('pos_alpha_subj')\n",
    "# neg_alpha = lm_params('pos_alpha_subj')\n",
    "# beta = lm_params('v_subj')\n"
   ]
  },
  {
   "cell_type": "code",
   "execution_count": 139,
   "metadata": {},
   "outputs": [],
   "source": [
    "pos_alpha = pos_alpha.reset_index().rename(columns={'index':'coefficient'})"
   ]
  },
  {
   "cell_type": "code",
   "execution_count": 166,
   "metadata": {},
   "outputs": [
    {
     "data": {
      "text/plain": [
       "<seaborn.axisgrid.FacetGrid at 0x7f3d45d6dcd0>"
      ]
     },
     "execution_count": 166,
     "metadata": {},
     "output_type": "execute_result"
    },
    {
     "data": {
      "image/png": "[encoded data removed]",
      "text/plain": [
       "<Figure size 360x360 with 1 Axes>"
      ]
     },
     "metadata": {
      "needs_background": "light"
     },
     "output_type": "display_data"
    }
   ],
   "source": [
    "sns.displot(pos_alpha.iloc[0][1:])"
   ]
  },
  {
   "cell_type": "markdown",
   "metadata": {},
   "source": [
    "# Analyzing/Plotting Fit Linear Model parameters"
   ]
  },
  {
   "cell_type": "code",
   "execution_count": 13,
   "metadata": {},
   "outputs": [],
   "source": [
    "alpha_g = pd.read_csv('alpha_g.csv').drop('Unnamed: 0', axis = 1)\n",
    "alpha_l = pd.read_csv('alpha_l.csv').drop('Unnamed: 0', axis = 1)\n",
    "beta = pd.read_csv('beta.csv').drop('Unnamed: 0', axis = 1)"
   ]
  },
  {
   "cell_type": "code",
   "execution_count": 82,
   "metadata": {},
   "outputs": [],
   "source": [
    "alpha_g_melt = alpha_g.melt(id_vars='coefficient', value_name='value', var_name='trace')\n",
    "alpha_l_melt = alpha_l.melt(id_vars='coefficient', value_name='value', var_name='trace')\n",
    "beta_melt = beta.melt(id_vars='coefficient', value_name='value', var_name='trace')\n"
   ]
  },
  {
   "cell_type": "code",
   "execution_count": null,
   "metadata": {},
   "outputs": [],
   "source": []
  },
  {
   "cell_type": "code",
   "execution_count": 84,
   "metadata": {},
   "outputs": [
    {
     "data": {
      "text/plain": [
       "Text(0.5, 1.0, 'Alpha Gain')"
      ]
     },
     "execution_count": 84,
     "metadata": {},
     "output_type": "execute_result"
    },
    {
     "data": {
      "image/png": "[encoded data removed]",
      "text/plain": [
       "<Figure size 614.625x360 with 1 Axes>"
      ]
     },
     "metadata": {
      "needs_background": "light"
     },
     "output_type": "display_data"
    }
   ],
   "source": [
    "g = sns.displot(alpha_g_melt, kind = 'kde', hue = 'coefficient', x = 'value')\n",
    "g.axes[0][0].axvline(x = 0, ls = '--', color = 'black')\n",
    "g.axes[0][0].set_xlabel('coefficient values')\n",
    "g.axes[0][0].set_title('Alpha Gain')\n",
    "# sns.displot(alpha_g.iloc[0][1:])\n"
   ]
  },
  {
   "cell_type": "code",
   "execution_count": 85,
   "metadata": {},
   "outputs": [
    {
     "data": {
      "text/plain": [
       "Text(0.5, 1.0, 'Alpha Loss')"
      ]
     },
     "execution_count": 85,
     "metadata": {},
     "output_type": "execute_result"
    },
    {
     "data": {
      "image/png": "[encoded data removed]",
      "text/plain": [
       "<Figure size 614.625x360 with 1 Axes>"
      ]
     },
     "metadata": {
      "needs_background": "light"
     },
     "output_type": "display_data"
    }
   ],
   "source": [
    "g = sns.displot(alpha_l_melt, kind = 'kde', hue = 'coefficient', x = 'value')\n",
    "g.axes[0][0].axvline(x = 0, ls = '--', color = 'black')\n",
    "g.axes[0][0].set_xlabel('coefficient values')\n",
    "g.axes[0][0].set_title('Alpha Loss')"
   ]
  },
  {
   "cell_type": "code",
   "execution_count": 89,
   "metadata": {},
   "outputs": [
    {
     "data": {
      "text/plain": [
       "Text(0.5, 1.0, 'Beta')"
      ]
     },
     "execution_count": 89,
     "metadata": {},
     "output_type": "execute_result"
    },
    {
     "data": {
      "image/png": "[encoded data removed]",
      "text/plain": [
       "<Figure size 514.125x360 with 1 Axes>"
      ]
     },
     "metadata": {
      "needs_background": "light"
     },
     "output_type": "display_data"
    }
   ],
   "source": [
    "g = sns.displot(beta_melt.loc[beta_melt['coefficient'] == 'BPD:C(Condition)[T.2.0]'], kind = 'kde', hue = 'coefficient', x = 'value')\n",
    "g.axes[0][0].axvline(x = 0, ls = '--', color = 'black')\n",
    "g.axes[0][0].set_xlabel('coefficient values')\n",
    "g.axes[0][0].set_title('Beta')"
   ]
  },
  {
   "cell_type": "code",
   "execution_count": null,
   "metadata": {},
   "outputs": [],
   "source": [
    "sns.displot(alpha_g_melt, kind = 'kde', hue = 'coefficient', x = 'value')\n"
   ]
  },
  {
   "cell_type": "code",
   "execution_count": null,
   "metadata": {},
   "outputs": [],
   "source": []
  },
  {
   "cell_type": "code",
   "execution_count": null,
   "metadata": {},
   "outputs": [],
   "source": []
  },
  {
   "cell_type": "code",
   "execution_count": null,
   "metadata": {},
   "outputs": [],
   "source": []
  },
  {
   "cell_type": "markdown",
   "metadata": {},
   "source": [
    "# Optimal Parameters"
   ]
  },
  {
   "cell_type": "code",
   "execution_count": 71,
   "metadata": {},
   "outputs": [],
   "source": [
    "rng = np.random.default_rng(12345)\n",
    "\n",
    "def optimal_model(rng, alpha_l, alpha_g, num_trials):\n",
    "    Q = np.zeros(2)+0.5\n",
    "    choices = []\n",
    "    for i in range(num_trials):\n",
    "        choice_a = np.random.choice([0, 1], p = softmax(Q))\n",
    "#         choice_a = np.argmax(Q)\n",
    "        if choice_a == 0:\n",
    "            reward = np.random.choice([1, 0], p=[0.8, 0.2])\n",
    "        else:\n",
    "            reward = np.random.choice([1, 0], p=[0.2, 0.8])\n",
    "            \n",
    "        pred_error = reward - Q[choice_a]\n",
    "        if pred_error > 0:\n",
    "            alpha = alpha_l\n",
    "        else:\n",
    "            alpha = alpha_g\n",
    "        Q[choice_a] = Q[choice_a] + alpha*pred_error\n",
    "        choices.append(choice_a)\n",
    "    return 1 - (sum(choices)/len(choices))\n"
   ]
  },
  {
   "cell_type": "code",
   "execution_count": null,
   "metadata": {},
   "outputs": [],
   "source": []
  },
  {
   "cell_type": "code",
   "execution_count": null,
   "metadata": {},
   "outputs": [],
   "source": []
  },
  {
   "cell_type": "code",
   "execution_count": 72,
   "metadata": {},
   "outputs": [],
   "source": [
    "num_trials = 1000\n",
    "n_sims = 1000\n",
    "df = []\n",
    "for (alpha_l, alpha_g) in zip([0.1, 0.6, 0.9, 1], [0.1, 0.6, 0.9, 1]):\n",
    "    optimal_choice_proportion = np.zeros(n_sims)\n",
    "    for i in range(n_sims):\n",
    "        optimal_choice_proportion[i] = optimal_model(rng, alpha_l, alpha_g, num_trials)\n",
    "    df.append(pd.DataFrame({'Alpha_l': np.repeat(alpha_l, n_sims), 'Alpha_g': np.repeat(alpha_g, n_sims), 'optimal choice proportion': optimal_choice_proportion}))\n"
   ]
  },
  {
   "cell_type": "code",
   "execution_count": 73,
   "metadata": {},
   "outputs": [],
   "source": [
    "sim_data = pd.concat(df)"
   ]
  },
  {
   "cell_type": "code",
   "execution_count": 78,
   "metadata": {},
   "outputs": [
    {
     "data": {
      "text/plain": [
       "<seaborn.axisgrid.FacetGrid at 0x7f5843655310>"
      ]
     },
     "execution_count": 78,
     "metadata": {},
     "output_type": "execute_result"
    },
    {
     "data": {
      "image/png": "[encoded data removed]",
      "text/plain": [
       "<Figure size 1440x360 with 4 Axes>"
      ]
     },
     "metadata": {
      "needs_background": "light"
     },
     "output_type": "display_data"
    }
   ],
   "source": [
    "sns.displot(x = 'optimal choice proportion', data = sim_data, col = 'Alpha_l', kind = 'kde')"
   ]
  },
  {
   "cell_type": "markdown",
   "metadata": {},
   "source": [
    "# Other stuff tried"
   ]
  },
  {
   "cell_type": "code",
   "execution_count": 8,
   "metadata": {},
   "outputs": [
    {
     "ename": "NameError",
     "evalue": "name 'pt' is not defined",
     "output_type": "error",
     "traceback": [
      "\u001b[0;31m---------------------------------------------------------------------------\u001b[0m",
      "\u001b[0;31mNameError\u001b[0m                                 Traceback (most recent call last)",
      "\u001b[0;32m<ipython-input-8-67923ec06592>\u001b[0m in \u001b[0;36m<module>\u001b[0;34m\u001b[0m\n\u001b[1;32m     33\u001b[0m \u001b[0;34m\u001b[0m\u001b[0m\n\u001b[1;32m     34\u001b[0m \u001b[0;31m# define a pytensor Op for our likelihood function\u001b[0m\u001b[0;34m\u001b[0m\u001b[0;34m\u001b[0m\u001b[0;34m\u001b[0m\u001b[0m\n\u001b[0;32m---> 35\u001b[0;31m \u001b[0;32mclass\u001b[0m \u001b[0mLogLike\u001b[0m\u001b[0;34m(\u001b[0m\u001b[0mpt\u001b[0m\u001b[0;34m.\u001b[0m\u001b[0mOp\u001b[0m\u001b[0;34m)\u001b[0m\u001b[0;34m:\u001b[0m\u001b[0;34m\u001b[0m\u001b[0;34m\u001b[0m\u001b[0m\n\u001b[0m\u001b[1;32m     36\u001b[0m \u001b[0;34m\u001b[0m\u001b[0m\n\u001b[1;32m     37\u001b[0m     \"\"\"\n",
      "\u001b[0;31mNameError\u001b[0m: name 'pt' is not defined"
     ]
    }
   ],
   "source": [
    "def llik_td (alpha_l, alpha_g, beta, actions, rewards, stimuli):\n",
    "    # Extract the arguments as they are passed by scipy.optimize.minimize\n",
    "\n",
    "    # Initialize values\n",
    "    Q = np.array([0.5, 0.5, 0.5, 0.5, 0.5, 0.5])\n",
    "    logp_actions = np.zeros(len(actions))\n",
    "\n",
    "    for t, (a, r) in enumerate(zip(actions, rewards)):\n",
    "        # Apply the softmax transformation\n",
    "        exp_Q = np.exp(Q[stimuli[t]]*beta)\n",
    "        \n",
    "        prob_a = exp_Q / np.sum(exp_Q)\n",
    "\n",
    "#         logp_action = Q_ - scipy.special.logsumexp(Q_)\n",
    "\n",
    "        # Store the log probability of the observed action\n",
    "        logp_actions[t] = np.log(prob_a[a%2])\n",
    "        \n",
    "        \n",
    "\n",
    "        # Update the Q values for the next trial\n",
    "        pred_error = r - Q[a]\n",
    "        if pred_error > 0:\n",
    "            alpha = alpha_g\n",
    "        else:\n",
    "            alpha = alpha_l\n",
    "            \n",
    "        Q[a] = Q[a] + alpha * pred_error\n",
    "\n",
    "    # Return the negative log likelihood of all observed actions\n",
    "    return np.sum(logp_actions[1:])\n",
    "\n",
    "\n",
    "# define a pytensor Op for our likelihood function\n",
    "class LogLike(pt.Op):\n",
    "\n",
    "    \"\"\"\n",
    "    Specify what type of object will be passed and returned to the Op when it is\n",
    "    called. In our case we will be passing it a vector of values (the parameters\n",
    "    that define our model) and returning a single \"scalar\" value (the\n",
    "    log-likelihood)\n",
    "    \"\"\"\n",
    "\n",
    "    itypes = [pt.dvector]  # expects a vector of parameter values when called\n",
    "    otypes = [pt.dscalar]  # outputs a single scalar value (the log likelihood)\n",
    "\n",
    "    def __init__(self, loglike, actions, rewards, stimuli):\n",
    "        \"\"\"\n",
    "        Initialise the Op with various things that our log-likelihood function\n",
    "        requires. Below are the things that are needed in this particular\n",
    "        example.\n",
    "\n",
    "        Parameters\n",
    "        ----------\n",
    "        loglike:\n",
    "            The log-likelihood (or whatever) function we've defined\n",
    "        data:\n",
    "            The \"observed\" data that our log-likelihood function takes in\n",
    "        x:\n",
    "            The dependent variable (aka 'x') that our model requires\n",
    "        sigma:\n",
    "            The noise standard deviation that our function requires.\n",
    "        \"\"\"\n",
    "\n",
    "        # add inputs as class attributes\n",
    "        self.likelihood = loglike\n",
    "        self.actions = actions\n",
    "        self.rewards = rewards\n",
    "        self.stimuli = stimuli\n",
    "\n",
    "    def perform(self, node, inputs, outputs):\n",
    "        # the method that is used when calling the Op\n",
    "        (theta,) = inputs  # this will contain my variables\n",
    "\n",
    "        # call the log-likelihood function\n",
    "        logl = self.likelihood(theta[0], theta[1], theta[2], self.actions, self.rewards, self.stimuli)\n",
    "\n",
    "        outputs[0][0] = np.array(logl)  # output the log-likelihood\n",
    "        \n",
    "        "
   ]
  },
  {
   "cell_type": "code",
   "execution_count": null,
   "metadata": {},
   "outputs": [],
   "source": [
    "logl = LogLike(llik_td, actions, rewards, trials_presented)\n",
    "\n",
    "with pm.Model() as m:\n",
    "    \n",
    "    \n",
    "    alpha_l = pm.Uniform(\"alpha_l\", 0, 1)\n",
    "    alpha_g = pm.Uniform(\"alpha_g\", 0, 1)\n",
    "    beta = pm.Uniform(\"beta\", lower=0.1, upper = 3)\n",
    "    theta = pt.as_tensor_variable([alpha_l, alpha_g, beta])\n",
    "\n",
    "    like = pm.Potential(\"like\", logl(theta))\n",
    "#     actions = pm.Categorical('actions', )\n",
    "    tr = pm.sample(random_seed=rng)"
   ]
  },
  {
   "cell_type": "code",
   "execution_count": null,
   "metadata": {},
   "outputs": [],
   "source": [
    "def update_Q(action, reward, Qs, alpha_l, alpha_g):\n",
    "    \"\"\"\n",
    "    This function updates the Q table according to the RL update rule.\n",
    "    It will be called by pytensor.scan to do so recursevely, given the observed data and the alpha parameter\n",
    "    This could have been replaced be the following lamba expression in the pytensor.scan fn argument:\n",
    "        fn=lamba action, reward, Qs, alpha: pt.set_subtensor(Qs[action], Qs[action] + alpha * (reward - Qs[action]))\n",
    "    \"\"\"\n",
    "    pred_error = reward - Qs[action]\n",
    "\n",
    "    if pt.gt(reward, Qs[action]): #If reward greater than Qs[action]\n",
    "        alpha = alpha_g\n",
    "    else:\n",
    "        alpha = alpha_l\n",
    "    Qs = pt.set_subtensor(Qs[action], Qs[action] + alpha * pred_error)\n",
    "    return Qs\n",
    "\n",
    "def correct_action_probs(alpha_l, alpha_g, beta, actions, rewards, stimuli):\n",
    "    rewards = pt.as_tensor_variable(rewards, dtype=\"int32\")\n",
    "    actions = pt.as_tensor_variable(actions, dtype=\"int32\")\n",
    "#     stimuli = pt.as_tensor_variable(stimuli, dtype=\"int32\")\n",
    "    \n",
    "\n",
    "    # Compute the Qs values\n",
    "    Qs = 0.5 * pt.ones((6,), dtype=\"float64\")\n",
    "    Qs, updates = pytensor.scan(\n",
    "        fn=update_Q, sequences=[actions, rewards], outputs_info=[Qs], non_sequences=[alpha_l, alpha_g]\n",
    "    )\n",
    "\n",
    "    # Apply the sotfmax transformation\n",
    "#     print(Qs.shape.eval())\n",
    "    Qs = Qs[:-1] * beta\n",
    "    logp_actions = Qs - pt.logsumexp(Qs, axis=1, keepdims=True)\n",
    "    optimal_action = stimuli[stimuli%2 == 0][:-1]\n",
    "    \n",
    "    # Return the probabilities for the optimal action, in the original scale\n",
    "    return pt.exp(logp_actions[np.arange(419), optimal_action])"
   ]
  },
  {
   "cell_type": "code",
   "execution_count": null,
   "metadata": {},
   "outputs": [],
   "source": [
    "with pm.Model() as m_alt:\n",
    "    alpha_l = pm.Uniform(name=\"alpha_l\", lower=0.01, upper = 0.99)\n",
    "    alpha_g = pm.Uniform(name=\"alpha_g\", lower=0.01, upper = 0.99)\n",
    "    \n",
    "    beta = pm.HalfNormal(name=\"beta\", sigma=10)\n",
    "\n",
    "    action_probs = correct_action_probs(alpha_l, alpha_g,  beta, actions, rewards, trials_presented)\n",
    "    like = pm.Bernoulli(name=\"like\", p=action_probs, observed=opt_act[1:])\n",
    "\n",
    "    tr_alt = pm.sample(random_seed=rng)"
   ]
  }
 ],
 "metadata": {
  "colab": {
   "provenance": []
  },
  "gpuClass": "standard",
  "kernelspec": {
   "display_name": "Python 3",
   "language": "python",
   "name": "python3"
  },
  "language_info": {
   "codemirror_mode": {
    "name": "ipython",
    "version": 3
   },
   "file_extension": ".py",
   "mimetype": "text/x-python",
   "name": "python",
   "nbconvert_exporter": "python",
   "pygments_lexer": "ipython3",
   "version": "3.8.8"
  }
 },
 "nbformat": 4,
 "nbformat_minor": 1
}
